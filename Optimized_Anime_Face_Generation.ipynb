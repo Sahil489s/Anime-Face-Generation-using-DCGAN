{
 "cells": [
  {
   "cell_type": "markdown",
   "metadata": {},
   "source": [
    "## Import Modules"
   ]
  },
  {
   "cell_type": "code",
   "execution_count": null,
   "metadata": {
    "execution": {
     "iopub.execute_input": "2023-02-08T02:20:03.614129Z",
     "iopub.status.busy": "2023-02-08T02:20:03.613718Z",
     "iopub.status.idle": "2023-02-08T02:20:09.054832Z",
     "shell.execute_reply": "2023-02-08T02:20:09.053864Z",
     "shell.execute_reply.started": "2023-02-08T02:20:03.614051Z"
    },
    "trusted": true
   },
   "outputs": [],
   "source": [
    "import os\n",
    "import numpy as np\n",
    "import matplotlib.pyplot as plt\n",
    "import warnings\n",
    "from tqdm.notebook import tqdm\n",
    "\n",
    "import tensorflow as tf\n",
    "from tensorflow import keras\n",
    "from tensorflow.keras.preprocessing.image import load_img, array_to_img\n",
    "from tensorflow.keras.models import Sequential, Model\n",
    "from tensorflow.keras import layers\n",
    "from tensorflow.keras.optimizers import Adam\n",
    "from tensorflow.keras.losses import BinaryCrossentropy\n",
    "\n",
    "warnings.filterwarnings('ignore')"
   ]
  },
  {
   "cell_type": "markdown",
   "metadata": {},
   "source": [
    "## Load the files"
   ]
  },
  {
   "cell_type": "code",
   "execution_count": null,
   "metadata": {
    "execution": {
     "iopub.execute_input": "2023-02-08T02:20:09.057648Z",
     "iopub.status.busy": "2023-02-08T02:20:09.056943Z",
     "iopub.status.idle": "2023-02-08T02:20:09.068043Z",
     "shell.execute_reply": "2023-02-08T02:20:09.064721Z",
     "shell.execute_reply.started": "2023-02-08T02:20:09.057609Z"
    },
    "trusted": true
   },
   "outputs": [],
   "source": [
    "BASE_DIR = '/kaggle/input/anime-faces/data/'"
   ]
  },
  {
   "cell_type": "code",
   "execution_count": null,
   "metadata": {
    "execution": {
     "iopub.execute_input": "2023-02-08T02:20:09.071205Z",
     "iopub.status.busy": "2023-02-08T02:20:09.070543Z",
     "iopub.status.idle": "2023-02-08T02:20:10.532020Z",
     "shell.execute_reply": "2023-02-08T02:20:10.530749Z",
     "shell.execute_reply.started": "2023-02-08T02:20:09.071163Z"
    },
    "trusted": true
   },
   "outputs": [],
   "source": [
    "# load complete image paths to the list\n",
    "image_paths = []\n",
    "for image_name in os.listdir(BASE_DIR):\n",
    "    image_path = os.path.join(BASE_DIR, image_name)\n",
    "    image_paths.append(image_path)"
   ]
  },
  {
   "cell_type": "code",
   "execution_count": null,
   "metadata": {
    "execution": {
     "iopub.execute_input": "2023-02-08T02:20:10.535045Z",
     "iopub.status.busy": "2023-02-08T02:20:10.534694Z",
     "iopub.status.idle": "2023-02-08T02:20:10.544740Z",
     "shell.execute_reply": "2023-02-08T02:20:10.543604Z",
     "shell.execute_reply.started": "2023-02-08T02:20:10.535010Z"
    },
    "trusted": true
   },
   "outputs": [],
   "source": [
    "image_paths[:5]"
   ]
  },
  {
   "cell_type": "code",
   "execution_count": null,
   "metadata": {
    "execution": {
     "iopub.execute_input": "2023-02-08T02:20:10.547005Z",
     "iopub.status.busy": "2023-02-08T02:20:10.546178Z",
     "iopub.status.idle": "2023-02-08T02:20:10.553177Z",
     "shell.execute_reply": "2023-02-08T02:20:10.552140Z",
     "shell.execute_reply.started": "2023-02-08T02:20:10.546970Z"
    },
    "trusted": true
   },
   "outputs": [],
   "source": [
    "# remove unnecessary file\n",
    "image_paths.remove('/kaggle/input/anime-faces/data/data')"
   ]
  },
  {
   "cell_type": "code",
   "execution_count": null,
   "metadata": {
    "execution": {
     "iopub.execute_input": "2023-02-08T02:20:10.555311Z",
     "iopub.status.busy": "2023-02-08T02:20:10.554681Z",
     "iopub.status.idle": "2023-02-08T02:20:10.564174Z",
     "shell.execute_reply": "2023-02-08T02:20:10.563107Z",
     "shell.execute_reply.started": "2023-02-08T02:20:10.555276Z"
    },
    "trusted": true
   },
   "outputs": [],
   "source": [
    "len(image_paths)"
   ]
  },
  {
   "cell_type": "markdown",
   "metadata": {},
   "source": [
    "## Visualize the Image Dataset"
   ]
  },
  {
   "cell_type": "code",
   "execution_count": null,
   "metadata": {
    "execution": {
     "iopub.execute_input": "2023-02-08T02:20:10.566119Z",
     "iopub.status.busy": "2023-02-08T02:20:10.565549Z",
     "iopub.status.idle": "2023-02-08T02:20:13.606401Z",
     "shell.execute_reply": "2023-02-08T02:20:13.605077Z",
     "shell.execute_reply.started": "2023-02-08T02:20:10.566085Z"
    },
    "trusted": true
   },
   "outputs": [],
   "source": [
    "# to display grid of images (7x7)\n",
    "plt.figure(figsize=(20, 20))\n",
    "temp_images = image_paths[:49]\n",
    "index = 1\n",
    "\n",
    "for image_path in temp_images:\n",
    "    plt.subplot(7, 7, index)\n",
    "    # load the image\n",
    "    img = load_img(image_path)\n",
    "    # convert to numpy array\n",
    "    img = np.array(img)\n",
    "    # show the image\n",
    "    plt.imshow(img)\n",
    "    plt.axis('off')\n",
    "    # increment the index for next image\n",
    "    index += 1"
   ]
  },
  {
   "cell_type": "markdown",
   "metadata": {},
   "source": [
    "## Preprocess Images"
   ]
  },
  {
   "cell_type": "code",
   "execution_count": null,
   "metadata": {
    "execution": {
     "iopub.execute_input": "2023-02-08T02:20:13.608250Z",
     "iopub.status.busy": "2023-02-08T02:20:13.607790Z",
     "iopub.status.idle": "2023-02-08T02:24:21.447125Z",
     "shell.execute_reply": "2023-02-08T02:24:21.446161Z",
     "shell.execute_reply.started": "2023-02-08T02:20:13.608202Z"
    },
    "trusted": true
   },
   "outputs": [],
   "source": [
    "# load the image and convert to numpy array\n",
    "train_images = [np.array(load_img(path)) for path in tqdm(image_paths)]\n",
    "train_images = np.array(train_images)"
   ]
  },
  {
   "cell_type": "code",
   "execution_count": null,
   "metadata": {
    "execution": {
     "iopub.execute_input": "2023-02-08T02:24:21.449190Z",
     "iopub.status.busy": "2023-02-08T02:24:21.448793Z",
     "iopub.status.idle": "2023-02-08T02:24:21.457206Z",
     "shell.execute_reply": "2023-02-08T02:24:21.456239Z",
     "shell.execute_reply.started": "2023-02-08T02:24:21.449154Z"
    },
    "trusted": true
   },
   "outputs": [],
   "source": [
    "train_images[0].shape"
   ]
  },
  {
   "cell_type": "code",
   "execution_count": null,
   "metadata": {
    "execution": {
     "iopub.execute_input": "2023-02-08T02:24:21.462152Z",
     "iopub.status.busy": "2023-02-08T02:24:21.461301Z",
     "iopub.status.idle": "2023-02-08T02:24:21.724573Z",
     "shell.execute_reply": "2023-02-08T02:24:21.723557Z",
     "shell.execute_reply.started": "2023-02-08T02:24:21.462092Z"
    },
    "trusted": true
   },
   "outputs": [],
   "source": [
    "# reshape the array\n",
    "train_images = train_images.reshape(train_images.shape[0], 64, 64, 3).astype('float32')"
   ]
  },
  {
   "cell_type": "code",
   "execution_count": null,
   "metadata": {
    "execution": {
     "iopub.execute_input": "2023-02-08T02:24:21.726371Z",
     "iopub.status.busy": "2023-02-08T02:24:21.726000Z",
     "iopub.status.idle": "2023-02-08T02:24:22.145413Z",
     "shell.execute_reply": "2023-02-08T02:24:22.144414Z",
     "shell.execute_reply.started": "2023-02-08T02:24:21.726334Z"
    },
    "trusted": true
   },
   "outputs": [],
   "source": [
    "# normalize the images\n",
    "train_images = (train_images - 127.5) / 127.5"
   ]
  },
  {
   "cell_type": "code",
   "execution_count": null,
   "metadata": {
    "execution": {
     "iopub.execute_input": "2023-02-08T02:24:22.147415Z",
     "iopub.status.busy": "2023-02-08T02:24:22.146681Z",
     "iopub.status.idle": "2023-02-08T02:24:22.155932Z",
     "shell.execute_reply": "2023-02-08T02:24:22.154822Z",
     "shell.execute_reply.started": "2023-02-08T02:24:22.147376Z"
    },
    "trusted": true
   },
   "outputs": [],
   "source": [
    "train_images[0]"
   ]
  },
  {
   "cell_type": "markdown",
   "metadata": {},
   "source": [
    "## Create Generator & Discriminator Models"
   ]
  },
  {
   "cell_type": "code",
   "execution_count": null,
   "metadata": {
    "execution": {
     "iopub.execute_input": "2023-02-08T02:24:22.158411Z",
     "iopub.status.busy": "2023-02-08T02:24:22.157679Z",
     "iopub.status.idle": "2023-02-08T02:24:22.166675Z",
     "shell.execute_reply": "2023-02-08T02:24:22.165679Z",
     "shell.execute_reply.started": "2023-02-08T02:24:22.158374Z"
    },
    "trusted": true
   },
   "outputs": [],
   "source": [
    "# latent dimension for random noise\n",
    "LATENT_DIM = 100\n",
    "# weight initializer\n",
    "WEIGHT_INIT = keras.initializers.RandomNormal(mean=0.0, stddev=0.02)\n",
    "# no. of channels of the image\n",
    "CHANNELS = 3 # for gray scale, keep it as 1"
   ]
  },
  {
   "cell_type": "markdown",
   "metadata": {},
   "source": [
    "### Generator Model\n",
    "\n",
    "Generator Model will create new images similar to training data from random noise"
   ]
  },
  {
   "cell_type": "code",
   "execution_count": null,
   "metadata": {
    "execution": {
     "iopub.execute_input": "2023-02-08T02:24:22.169070Z",
     "iopub.status.busy": "2023-02-08T02:24:22.168028Z",
     "iopub.status.idle": "2023-02-08T02:24:24.993959Z",
     "shell.execute_reply": "2023-02-08T02:24:24.992862Z",
     "shell.execute_reply.started": "2023-02-08T02:24:22.169028Z"
    },
    "trusted": true
   },
   "outputs": [],
   "source": [
    "model = Sequential(name='generator')\n",
    "\n",
    "# 1d random noise\n",
    "model.add(layers.Dense(8 * 8 * 512, input_dim=LATENT_DIM))\n",
    "# model.add(layers.BatchNormalization())\n",
    "model.add(layers.ReLU())\n",
    "\n",
    "# convert 1d to 3d\n",
    "model.add(layers.Reshape((8, 8, 512)))\n",
    "\n",
    "# upsample to 16x16\n",
    "model.add(layers.Conv2DTranspose(256, (4, 4), strides=(2, 2), padding='same', kernel_initializer=WEIGHT_INIT))\n",
    "# model.add(layers.BatchNormalization())\n",
    "model.add(layers.ReLU())\n",
    "\n",
    "# upsample to 32x32\n",
    "model.add(layers.Conv2DTranspose(128, (4, 4), strides=(2, 2), padding='same', kernel_initializer=WEIGHT_INIT))\n",
    "# model.add(layers.BatchNormalization())\n",
    "model.add(layers.ReLU())\n",
    "\n",
    "# upsample to 64x64\n",
    "model.add(layers.Conv2DTranspose(64, (4, 4), strides=(2, 2), padding='same', kernel_initializer=WEIGHT_INIT))\n",
    "# model.add(layers.BatchNormalization())\n",
    "model.add(layers.ReLU())\n",
    "\n",
    "model.add(layers.Conv2D(CHANNELS, (4, 4), padding='same', activation='tanh'))\n",
    "\n",
    "generator = model\n",
    "generator.summary()"
   ]
  },
  {
   "cell_type": "markdown",
   "metadata": {},
   "source": [
    "### Discriminator Model\n",
    "\n",
    "Discriminator model will classify the image from the generator to check whether it real (or) fake images."
   ]
  },
  {
   "cell_type": "code",
   "execution_count": null,
   "metadata": {
    "execution": {
     "iopub.execute_input": "2023-02-08T02:24:24.996009Z",
     "iopub.status.busy": "2023-02-08T02:24:24.995362Z",
     "iopub.status.idle": "2023-02-08T02:24:25.078444Z",
     "shell.execute_reply": "2023-02-08T02:24:25.077425Z",
     "shell.execute_reply.started": "2023-02-08T02:24:24.995972Z"
    },
    "trusted": true
   },
   "outputs": [],
   "source": [
    "model = Sequential(name='discriminator')\n",
    "input_shape = (64, 64, 3)\n",
    "alpha = 0.2\n",
    "\n",
    "# create conv layers\n",
    "model.add(layers.Conv2D(64, (4, 4), strides=(2, 2), padding='same', input_shape=input_shape))\n",
    "model.add(layers.BatchNormalization())\n",
    "model.add(layers.LeakyReLU(alpha=alpha))\n",
    "\n",
    "model.add(layers.Conv2D(128, (4, 4), strides=(2, 2), padding='same', input_shape=input_shape))\n",
    "model.add(layers.BatchNormalization())\n",
    "model.add(layers.LeakyReLU(alpha=alpha))\n",
    "\n",
    "model.add(layers.Conv2D(128, (4, 4), strides=(2, 2), padding='same', input_shape=input_shape))\n",
    "model.add(layers.BatchNormalization())\n",
    "model.add(layers.LeakyReLU(alpha=alpha))\n",
    "\n",
    "model.add(layers.Flatten())\n",
    "model.add(layers.Dropout(0.3))\n",
    "\n",
    "# output class\n",
    "model.add(layers.Dense(1, activation='sigmoid'))\n",
    "\n",
    "discriminator = model\n",
    "discriminator.summary()"
   ]
  },
  {
   "cell_type": "markdown",
   "metadata": {},
   "source": [
    "## Create DCGAN"
   ]
  },
  {
   "cell_type": "code",
   "execution_count": null,
   "metadata": {
    "execution": {
     "iopub.execute_input": "2023-02-08T02:24:25.080222Z",
     "iopub.status.busy": "2023-02-08T02:24:25.079893Z",
     "iopub.status.idle": "2023-02-08T02:24:25.095242Z",
     "shell.execute_reply": "2023-02-08T02:24:25.094158Z",
     "shell.execute_reply.started": "2023-02-08T02:24:25.080189Z"
    },
    "trusted": true
   },
   "outputs": [],
   "source": [
    "class DCGAN(keras.Model):\n",
    "    def __init__(self, generator, discriminator, latent_dim):\n",
    "        super().__init__()\n",
    "        self.generator = generator\n",
    "        self.discriminator = discriminator\n",
    "        self.latent_dim = latent_dim\n",
    "        self.g_loss_metric = keras.metrics.Mean(name='g_loss')\n",
    "        self.d_loss_metric = keras.metrics.Mean(name='d_loss')\n",
    "        \n",
    "    @property\n",
    "    def metrics(self):\n",
    "        return [self.g_loss_metric, self.d_loss_metric]\n",
    "    \n",
    "    def compile(self, g_optimizer, d_optimizer, loss_fn):\n",
    "        super(DCGAN, self).compile()\n",
    "        self.g_optimizer = g_optimizer\n",
    "        self.d_optimizer = d_optimizer\n",
    "        self.loss_fn = loss_fn\n",
    "        \n",
    "    def train_step(self, real_images):\n",
    "        # get batch size from the data\n",
    "        batch_size = tf.shape(real_images)[0]\n",
    "        # generate random noise\n",
    "        random_noise = tf.random.normal(shape=(batch_size, self.latent_dim))\n",
    "        \n",
    "        # train the discriminator with real (1) and fake (0) images\n",
    "        with tf.GradientTape() as tape:\n",
    "            # compute loss on real images\n",
    "            pred_real = self.discriminator(real_images, training=True)\n",
    "            # generate real image labels\n",
    "            real_labels = tf.ones((batch_size, 1))\n",
    "            # label smoothing\n",
    "            real_labels += 0.05 * tf.random.uniform(tf.shape(real_labels))\n",
    "            d_loss_real = self.loss_fn(real_labels, pred_real)\n",
    "            \n",
    "            # compute loss on fake images\n",
    "            fake_images = self.generator(random_noise)\n",
    "            pred_fake = self.discriminator(fake_images, training=True)\n",
    "            # generate fake labels\n",
    "            fake_labels = tf.zeros((batch_size, 1))\n",
    "            d_loss_fake = self.loss_fn(fake_labels, pred_fake)\n",
    "            \n",
    "            # total discriminator loss\n",
    "            d_loss = (d_loss_real + d_loss_fake) / 2\n",
    "            \n",
    "        # compute discriminator gradients\n",
    "        gradients = tape.gradient(d_loss, self.discriminator.trainable_variables)\n",
    "        # update the gradients\n",
    "        self.d_optimizer.apply_gradients(zip(gradients, self.discriminator.trainable_variables))\n",
    "        \n",
    "        \n",
    "        # train the generator model\n",
    "        labels = tf.ones((batch_size, 1))\n",
    "        # generator want discriminator to think that fake images are real\n",
    "        with tf.GradientTape() as tape:\n",
    "            # generate fake images from generator\n",
    "            fake_images = self.generator(random_noise, training=True)\n",
    "            # classify images as real or fake\n",
    "            pred_fake = self.discriminator(fake_images, training=True)\n",
    "            # compute loss\n",
    "            g_loss = self.loss_fn(labels, pred_fake)\n",
    "            \n",
    "        # compute gradients\n",
    "        gradients = tape.gradient(g_loss, self.generator.trainable_variables)\n",
    "        # update the gradients\n",
    "        self.g_optimizer.apply_gradients(zip(gradients, self.generator.trainable_variables))\n",
    "        \n",
    "        # update states for both models\n",
    "        self.d_loss_metric.update_state(d_loss)\n",
    "        self.g_loss_metric.update_state(g_loss)\n",
    "        \n",
    "        return {'d_loss': self.d_loss_metric.result(), 'g_loss': self.g_loss_metric.result()}"
   ]
  },
  {
   "cell_type": "code",
   "execution_count": null,
   "metadata": {
    "execution": {
     "iopub.execute_input": "2023-02-08T02:24:25.097667Z",
     "iopub.status.busy": "2023-02-08T02:24:25.097359Z",
     "iopub.status.idle": "2023-02-08T02:24:25.109795Z",
     "shell.execute_reply": "2023-02-08T02:24:25.108897Z",
     "shell.execute_reply.started": "2023-02-08T02:24:25.097634Z"
    },
    "trusted": true
   },
   "outputs": [],
   "source": [
    "class DCGANMonitor(keras.callbacks.Callback):\n",
    "    def __init__(self, num_imgs=25, latent_dim=100):\n",
    "        self.num_imgs = num_imgs\n",
    "        self.latent_dim = latent_dim\n",
    "        # create random noise for generating images\n",
    "        self.noise = tf.random.normal([25, latent_dim])\n",
    "\n",
    "    def on_epoch_end(self, epoch, logs=None):\n",
    "        # generate the image from noise\n",
    "        g_img = self.model.generator(self.noise)\n",
    "        # denormalize the image\n",
    "        g_img = (g_img * 127.5) + 127.5\n",
    "        g_img.numpy()\n",
    "        \n",
    "        fig = plt.figure(figsize=(8, 8))\n",
    "        for i in range(self.num_imgs):\n",
    "            plt.subplot(5, 5, i+1)\n",
    "            img = array_to_img(g_img[i])\n",
    "            plt.imshow(img)\n",
    "            plt.axis('off')\n",
    "        # plt.savefig('epoch_{:03d}.png'.format(epoch))\n",
    "        plt.show()\n",
    "        \n",
    "    def on_train_end(self, logs=None):\n",
    "        self.model.generator.save('generator.h5')"
   ]
  },
  {
   "cell_type": "code",
   "execution_count": null,
   "metadata": {
    "execution": {
     "iopub.execute_input": "2023-02-08T02:24:25.111691Z",
     "iopub.status.busy": "2023-02-08T02:24:25.111292Z",
     "iopub.status.idle": "2023-02-08T02:24:25.130488Z",
     "shell.execute_reply": "2023-02-08T02:24:25.129362Z",
     "shell.execute_reply.started": "2023-02-08T02:24:25.111651Z"
    },
    "trusted": true
   },
   "outputs": [],
   "source": [
    "dcgan = DCGAN(generator=generator, discriminator=discriminator, latent_dim=LATENT_DIM)"
   ]
  },
  {
   "cell_type": "code",
   "execution_count": null,
   "metadata": {
    "execution": {
     "iopub.execute_input": "2023-02-08T02:24:25.132920Z",
     "iopub.status.busy": "2023-02-08T02:24:25.132523Z",
     "iopub.status.idle": "2023-02-08T02:24:25.149889Z",
     "shell.execute_reply": "2023-02-08T02:24:25.148581Z",
     "shell.execute_reply.started": "2023-02-08T02:24:25.132883Z"
    },
    "trusted": true
   },
   "outputs": [],
   "source": [
    "D_LR = 0.0001 \n",
    "G_LR = 0.0003\n",
    "dcgan.compile(g_optimizer=Adam(learning_rate=G_LR, beta_1=0.5), d_optimizer=Adam(learning_rate=D_LR, beta_1=0.5), loss_fn=BinaryCrossentropy())"
   ]
  },
  {
   "cell_type": "code",
   "execution_count": null,
   "metadata": {
    "execution": {
     "iopub.execute_input": "2023-02-08T02:24:25.152919Z",
     "iopub.status.busy": "2023-02-08T02:24:25.152189Z",
     "iopub.status.idle": "2023-02-08T02:48:10.025032Z",
     "shell.execute_reply": "2023-02-08T02:48:10.023934Z",
     "shell.execute_reply.started": "2023-02-08T02:24:25.152864Z"
    },
    "trusted": true
   },
   "outputs": [],
   "source": [
    "N_EPOCHS = 50\n",
    "dcgan.fit(train_images, epochs=N_EPOCHS, callbacks=[DCGANMonitor()])"
   ]
  },
  {
   "cell_type": "markdown",
   "metadata": {},
   "source": [
    "## Generate New Anime Image"
   ]
  },
  {
   "cell_type": "code",
   "execution_count": null,
   "metadata": {
    "execution": {
     "iopub.execute_input": "2023-02-08T02:54:55.335790Z",
     "iopub.status.busy": "2023-02-08T02:54:55.335390Z",
     "iopub.status.idle": "2023-02-08T02:54:55.450792Z",
     "shell.execute_reply": "2023-02-08T02:54:55.449499Z",
     "shell.execute_reply.started": "2023-02-08T02:54:55.335756Z"
    },
    "trusted": true
   },
   "outputs": [],
   "source": [
    "noise = tf.random.normal([1, 100])\n",
    "fig = plt.figure(figsize=(3, 3))\n",
    "# generate the image from noise\n",
    "g_img = dcgan.generator(noise)\n",
    "# denormalize the image\n",
    "g_img = (g_img * 127.5) + 127.5\n",
    "g_img.numpy()\n",
    "img = array_to_img(g_img[0])\n",
    "plt.imshow(img)\n",
    "plt.axis('off')\n",
    "# plt.savefig('epoch_{:03d}.png'.format(epoch))\n",
    "plt.show()"
   ]
  },
  {
   "cell_type": "code",
   "execution_count": null,
   "metadata": {},
   "outputs": [],
   "source": []
  }
 ],
 "metadata": {
  "kernelspec": {
   "display_name": "Python 3",
   "language": "python",
   "name": "python3"
  },
  "language_info": {
   "codemirror_mode": {
    "name": "ipython",
    "version": 3
   },
   "file_extension": ".py",
   "mimetype": "text/x-python",
   "name": "python",
   "nbconvert_exporter": "python",
   "pygments_lexer": "ipython3",
   "version": "3.7.12"
  }
 },
 "nbformat": 4,
 "nbformat_minor": 4
}